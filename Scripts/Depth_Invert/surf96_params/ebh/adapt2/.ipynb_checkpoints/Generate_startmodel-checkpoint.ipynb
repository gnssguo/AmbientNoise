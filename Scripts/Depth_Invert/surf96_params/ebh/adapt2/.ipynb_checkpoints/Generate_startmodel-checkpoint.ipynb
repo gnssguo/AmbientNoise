{
 "cells": [
  {
   "cell_type": "code",
   "execution_count": 2,
   "metadata": {
    "collapsed": true
   },
   "outputs": [],
   "source": [
    "#!/usr/bin/env python\n",
    "import pandas as pd\n",
    "import numpy as np\n",
    "import matplotlib.pyplot as plt\n",
    "%matplotlib inline"
   ]
  },
  {
   "cell_type": "code",
   "execution_count": 6,
   "metadata": {
    "collapsed": false
   },
   "outputs": [],
   "source": [
    "#load the modelfile components\n",
    "startmod=open('start.mod','r')\n",
    "lines=startmod.readlines()\n",
    "startmod.close()\n",
    "headerlines = lines[:12]\n",
    "\n",
    "startmoddata = pd.read_csv('start.mod',skiprows=12,header=0,sep='\\s+',names=['H','vp','vs','rho','qp','qs','etap','etas',\\\n",
    "                                                                             'frefp','frefs'])\n",
    "startmoddata['depth'] = np.cumsum(startmoddata.H)\n",
    "\n",
    "#Get just the part of the model where the layer depths are == 10\n",
    "H10 = startmoddata[startmoddata.H == 10]\n",
    "HLT10 = startmoddata[startmoddata.H < 10.0]\n"
   ]
  },
  {
   "cell_type": "code",
   "execution_count": 7,
   "metadata": {
    "collapsed": true
   },
   "outputs": [],
   "source": [
    "from scipy.interpolate import interp1d"
   ]
  },
  {
   "cell_type": "code",
   "execution_count": 9,
   "metadata": {
    "collapsed": false
   },
   "outputs": [],
   "source": [
    "inc = 5 #maximum depth increment to use in the model\n",
    "deps = np.arange(min(H10.depth.values),max(H10.depth.values),inc)\n",
    "\n",
    "#Create interpolation functions for vp and vs\n",
    "finterpP = interp1d(H10.depth.values,H10.vp.values)\n",
    "finterpS = interp1d(H10.depth.values,H10.vs.values)\n",
    "finterpRHO = interp1d(H10.depth.values,H10.rho.values)\n",
    "\n",
    "#Interpolate to the finer depth grid\n",
    "newvp = finterpP(deps)\n",
    "newvs = finterpS(deps)\n",
    "newrho = finterpRHO(deps)\n",
    "\n",
    "#Create vector of new increment values\n",
    "newH = inc*np.ones(len(deps))\n",
    "#Create new vectors for all the other values\n",
    "newqp = H10.qp.values[0]*np.ones(len(deps))\n",
    "newqs = H10.qs.values[0]*np.ones(len(deps))\n",
    "newqs = H10.qs.values[0]*np.ones(len(deps))\n",
    "newetap = H10.etap.values[0]*np.ones(len(deps))\n",
    "newetas = H10.etas.values[0]*np.ones(len(deps))\n",
    "newfrefp = H10.frefp.values[0]*np.ones(len(deps))\n",
    "newfrefs = H10.frefs.values[0]*np.ones(len(deps))\n",
    "\n",
    "newH10 = pd.DataFrame({'H': newH, 'vp': newvp, 'vs': newvs, 'rho': newrho, 'qp': newqp, 'qs': newqs, 'etap': newetap,\\\n",
    "                       'etas': newetas, 'frefp': newfrefp, 'frefs': newfrefs, 'depth': deps})\n",
    "\n"
   ]
  },
  {
   "cell_type": "code",
   "execution_count": 19,
   "metadata": {
    "collapsed": false
   },
   "outputs": [],
   "source": [
    "#concatinate the dataframes\n",
    "frames = [HLT10, newH10]\n",
    "newdf = pd.concat(frames)\n",
    "newdf = newdf[newdf.depth <= 250] #cut off depths below 250km "
   ]
  },
  {
   "cell_type": "code",
   "execution_count": 20,
   "metadata": {
    "collapsed": false
   },
   "outputs": [
    {
     "data": {
      "text/plain": [
       "[<matplotlib.lines.Line2D at 0x11b75b910>]"
      ]
     },
     "execution_count": 20,
     "metadata": {},
     "output_type": "execute_result"
    },
    {
     "data": {
      "image/png": "[encoded data removed]",
      "text/plain": [
       "<matplotlib.figure.Figure at 0x11b5c1150>"
      ]
     },
     "metadata": {},
     "output_type": "display_data"
    }
   ],
   "source": [
    "plt.plot(newdf.vs,newdf.depth)"
   ]
  },
  {
   "cell_type": "code",
   "execution_count": 23,
   "metadata": {
    "collapsed": false
   },
   "outputs": [
    {
     "data": {
      "text/plain": [
       "[<matplotlib.lines.Line2D at 0x11ba96b90>]"
      ]
     },
     "execution_count": 23,
     "metadata": {},
     "output_type": "execute_result"
    },
    {
     "data": {
      "image/png": "[encoded data removed]",
      "text/plain": [
       "<matplotlib.figure.Figure at 0x11b960350>"
      ]
     },
     "metadata": {},
     "output_type": "display_data"
    }
   ],
   "source": [
    "startmoddata = startmoddata[startmoddata.depth <= 250] #cut off depths below 250km\n",
    "plt.plot(startmoddata.vs,startmoddata.depth)"
   ]
  },
  {
   "cell_type": "code",
   "execution_count": 24,
   "metadata": {
    "collapsed": false
   },
   "outputs": [],
   "source": [
    "#now write the final model file\n",
    "outfilename = 'start_ALL.mod'\n",
    "outfile = open(outfilename,'w')\n",
    "for line in headerlines:\n",
    "    outfile.write(line)\n",
    "    \n",
    "for i, row in newdf.iterrows():\n",
    "    \n",
    "    outfile.write('  %.4f  %.4f  %.4f  %.4f  %.0f  %.0f  %.2f  %.2f  %.2f  %.2f\\n'\\\n",
    "                     %(row.H,row.vp,row.vs,row.rho,row.qp,row.qs,row.etap,row.etas,\\\n",
    "                       row.frefp,row.frefs))\n",
    "                \n",
    "outfile.close()"
   ]
  },
  {
   "cell_type": "code",
   "execution_count": null,
   "metadata": {
    "collapsed": true
   },
   "outputs": [],
   "source": []
  }
 ],
 "metadata": {
  "anaconda-cloud": {},
  "kernelspec": {
   "display_name": "Python [default]",
   "language": "python",
   "name": "python2"
  },
  "language_info": {
   "codemirror_mode": {
    "name": "ipython",
    "version": 2
   },
   "file_extension": ".py",
   "mimetype": "text/x-python",
   "name": "python",
   "nbconvert_exporter": "python",
   "pygments_lexer": "ipython2",
   "version": "2.7.12"
  }
 },
 "nbformat": 4,
 "nbformat_minor": 0
}
